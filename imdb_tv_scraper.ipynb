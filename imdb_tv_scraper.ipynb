{
 "cells": [
  {
   "cell_type": "code",
   "execution_count": null,
   "id": "76250477-040c-4213-94f9-9a3aacd6d48e",
   "metadata": {},
   "outputs": [],
   "source": [
    "import pandas as pd\n",
    "import requests\n",
    "from bs4 import BeautifulSoup as bs"
   ]
  },
  {
   "cell_type": "code",
   "execution_count": 128,
   "id": "cf2981b1-d75f-496d-b9c5-3b9234288f2b",
   "metadata": {},
   "outputs": [
    {
     "name": "stdout",
     "output_type": "stream",
     "text": [
      "['https://www.imdb.com/search/title/?title_type=tv_series&num_votes=1000,&languages=en&sort=num_votes,desc&count=250&start=1', 'https://www.imdb.com/search/title/?title_type=tv_series&num_votes=1000,&languages=en&sort=num_votes,desc&count=250&start=251', 'https://www.imdb.com/search/title/?title_type=tv_series&num_votes=1000,&languages=en&sort=num_votes,desc&count=250&start=501', 'https://www.imdb.com/search/title/?title_type=tv_series&num_votes=1000,&languages=en&sort=num_votes,desc&count=250&start=751']\n"
     ]
    }
   ],
   "source": [
    "urls = []\n",
    "url_orig = 'https://www.imdb.com/search/title/?title_type=tv_series&num_votes=1000,&languages=en&sort=num_votes,desc&count=250&start='\n",
    "for i in range(1,1000,250):\n",
    "    urls.append(url_orig + str(i))\n",
    "print(urls)"
   ]
  },
  {
   "cell_type": "code",
   "execution_count": 146,
   "id": "567db2cb-8887-46b8-ac6f-f74daf43e035",
   "metadata": {},
   "outputs": [],
   "source": [
    "def get_titles(url):\n",
    "    titles = []\n",
    "    response = requests.get(url)\n",
    "    soup = bs(response.content, 'html.parser')\n",
    "    show_images = soup.find_all('img', {\"class\":\"loadlate\"})\n",
    "    for image in show_images:\n",
    "        t = image['alt']\n",
    "        titles.append(t)\n",
    "    return titles"
   ]
  },
  {
   "cell_type": "code",
   "execution_count": 200,
   "id": "d8004f13-437b-48b8-863a-48f98e2b8420",
   "metadata": {},
   "outputs": [],
   "source": [
    "def get_genres(url):\n",
    "    genres = []\n",
    "    response = requests.get(url)\n",
    "    soup = bs(response.content, 'html.parser')\n",
    "    genre_list = soup.find_all('span', {\"class\":\"genre\"})\n",
    "    for g in genre_list:\n",
    "        genre = g.text.strip().split(', ')\n",
    "        genres.append(genre)\n",
    "    return genres"
   ]
  },
  {
   "cell_type": "code",
   "execution_count": 222,
   "id": "f0958349-db96-4a9e-8056-1070557ac116",
   "metadata": {},
   "outputs": [],
   "source": [
    "def get_loglines(url):\n",
    "    loglines = []\n",
    "    response = requests.get(url)\n",
    "    soup = bs(response.content, 'html.parser')\n",
    "    show_info = soup.find_all('div', {\"class\":\"lister-item-content\"})\n",
    "    for show in show_info:\n",
    "        logline = (show.find_all('p')[1].text.replace('\\n','').strip())\n",
    "        loglines.append(logline)\n",
    "    return loglines"
   ]
  },
  {
   "cell_type": "code",
   "execution_count": 216,
   "id": "edd0bdb4-e097-44ce-b7c2-2f4a9dc248ac",
   "metadata": {},
   "outputs": [],
   "source": [
    "def get_years(url):\n",
    "    years = []\n",
    "    response = requests.get(url)\n",
    "    soup = bs(response.content, 'html.parser')\n",
    "    year_list = soup.find_all('span', {\"class\":\"lister-item-year text-muted unbold\"})\n",
    "    for y in year_list:\n",
    "        year = y.text.strip().replace('(','').replace(')','')\n",
    "        years.append(year)\n",
    "    return years"
   ]
  },
  {
   "cell_type": "code",
   "execution_count": 213,
   "id": "68447ca0-8e42-46ce-81b1-e768c52f79b4",
   "metadata": {},
   "outputs": [],
   "source": [
    "def get_stars(url):\n",
    "    all_stars = []\n",
    "    response = requests.get(url)\n",
    "    soup = bs(response.content, 'html.parser')\n",
    "    show_info = soup.find_all('div', {\"class\":\"lister-item-content\"})\n",
    "    for show in show_info:\n",
    "        stars = []\n",
    "        star_list = show.find_all('p', {\"class\":\"\"})[0].find_all('a')\n",
    "        for s in star_list:\n",
    "            stars.append(s.text)\n",
    "        all_stars.append(stars)\n",
    "    return all_stars"
   ]
  },
  {
   "cell_type": "code",
   "execution_count": 223,
   "id": "b4949734-54c9-4c50-be51-46f3cb30a4ff",
   "metadata": {},
   "outputs": [
    {
     "name": "stdout",
     "output_type": "stream",
     "text": [
      "1000\n"
     ]
    }
   ],
   "source": [
    "years = []\n",
    "genre = []\n",
    "stars = []\n",
    "title = []\n",
    "logline = []\n",
    "\n",
    "for url in urls:\n",
    "    title += get_titles(url)\n",
    "    logline += get_loglines(url)\n",
    "    genre += get_genres(url)\n",
    "    years += get_years(url)\n",
    "    stars += get_stars(url)\n",
    "\n",
    "print(len(stars))\n",
    "\n"
   ]
  },
  {
   "cell_type": "code",
   "execution_count": 224,
   "id": "f14287c8-5fac-4d64-b4b8-458f90b85163",
   "metadata": {},
   "outputs": [],
   "source": [
    "shows_df = pd.DataFrame({'Title': title, 'years': years, 'genre': genre, 'stars': stars, 'logline': logline})\n",
    "shows_df"
   ]
  },
  {
   "cell_type": "code",
   "execution_count": 229,
   "id": "2186bb43-5377-4905-bf48-12d4fe18a649",
   "metadata": {},
   "outputs": [],
   "source": [
    "logline_str = '\\n'.join(logline)\n",
    "f = open(\"loglines.txt\", \"w\")\n",
    "f.write(logline_str)\n",
    "f.close()"
   ]
  },
  {
   "cell_type": "code",
   "execution_count": 230,
   "id": "a99267f6-89af-4789-87de-83470b9f42a2",
   "metadata": {},
   "outputs": [
    {
     "data": {
      "text/plain": [
       "<bound method NDFrame.head of                 Title      years                           genre  \\\n",
       "0     Game of Thrones  2011–2019      [Action, Adventure, Drama]   \n",
       "1        Breaking Bad  2008–2013        [Crime, Drama, Thriller]   \n",
       "2     Stranger Things     2016–         [Drama, Fantasy, Horror]   \n",
       "3             Friends  1994–2004               [Comedy, Romance]   \n",
       "4    The Walking Dead  2010–2022       [Drama, Horror, Thriller]   \n",
       "..                ...        ...                             ...   \n",
       "995   Life Unexpected  2010–2011                         [Drama]   \n",
       "996          TaleSpin  1990–1991  [Animation, Action, Adventure]   \n",
       "997              Mars  2016–2018      [Adventure, Drama, Sci-Fi]   \n",
       "998     Better Things  2016–2022                 [Comedy, Drama]   \n",
       "999         Faking It  2014–2016        [Comedy, Drama, Romance]   \n",
       "\n",
       "                                                 stars  \\\n",
       "0    [Emilia Clarke, Peter Dinklage, Kit Harington,...   \n",
       "1    [Bryan Cranston, Aaron Paul, Anna Gunn, Betsy ...   \n",
       "2    [Millie Bobby Brown, Finn Wolfhard, Winona Ryd...   \n",
       "3    [Jennifer Aniston, Courteney Cox, Lisa Kudrow,...   \n",
       "4    [Andrew Lincoln, Norman Reedus, Melissa McBrid...   \n",
       "..                                                 ...   \n",
       "995  [Shiri Appleby, Kristoffer Polaha, Britt Rober...   \n",
       "996  [Ed Gilbert, R.J. Williams, Sally Struthers, J...   \n",
       "997  [Jihae, Alberto Ammann, Sammi Rotibi, Clémenti...   \n",
       "998  [Pamela Adlon, Mikey Madison, Hannah Riley, Ol...   \n",
       "999  [Rita Volk, Katie Stevens, Gregg Sulkin, Baile...   \n",
       "\n",
       "                                               logline  \n",
       "0    Nine noble families fight for control over the...  \n",
       "1    A high school chemistry teacher diagnosed with...  \n",
       "2    When a young boy disappears, his mother, a pol...  \n",
       "3    Follows the personal and professional lives of...  \n",
       "4    Sheriff Deputy Rick Grimes wakes up from a com...  \n",
       "..                                                 ...  \n",
       "995  After 15 years in foster homes, Lux decides to...  \n",
       "996  Baloo the Bear from The Jungle Book (1967) is ...  \n",
       "997  The first manned mission from Earth to Mars in...  \n",
       "998  An actress raises her three daughters while ju...  \n",
       "999  After numerous attempts of trying to be popula...  \n",
       "\n",
       "[1000 rows x 5 columns]>"
      ]
     },
     "execution_count": 230,
     "metadata": {},
     "output_type": "execute_result"
    }
   ],
   "source": [
    "shows_df.head"
   ]
  }
 ],
 "metadata": {
  "kernelspec": {
   "display_name": "Python 3 (ipykernel)",
   "language": "python",
   "name": "python3"
  },
  "language_info": {
   "codemirror_mode": {
    "name": "ipython",
    "version": 3
   },
   "file_extension": ".py",
   "mimetype": "text/x-python",
   "name": "python",
   "nbconvert_exporter": "python",
   "pygments_lexer": "ipython3",
   "version": "3.9.7"
  }
 },
 "nbformat": 4,
 "nbformat_minor": 5
}
