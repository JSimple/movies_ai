{
 "cells": [
  {
   "cell_type": "code",
   "execution_count": 1,
   "metadata": {},
   "outputs": [
    {
     "name": "stdout",
     "output_type": "stream",
     "text": [
      "Requirement already satisfied: spacy in /Users/josephinesimple/opt/anaconda3/lib/python3.9/site-packages (3.2.4)\n",
      "Requirement already satisfied: tqdm<5.0.0,>=4.38.0 in /Users/josephinesimple/opt/anaconda3/lib/python3.9/site-packages (from spacy) (4.62.3)\n",
      "Requirement already satisfied: preshed<3.1.0,>=3.0.2 in /Users/josephinesimple/opt/anaconda3/lib/python3.9/site-packages (from spacy) (3.0.6)\n",
      "Requirement already satisfied: pydantic!=1.8,!=1.8.1,<1.9.0,>=1.7.4 in /Users/josephinesimple/opt/anaconda3/lib/python3.9/site-packages (from spacy) (1.8.2)\n",
      "Requirement already satisfied: wasabi<1.1.0,>=0.8.1 in /Users/josephinesimple/opt/anaconda3/lib/python3.9/site-packages (from spacy) (0.9.1)\n",
      "Requirement already satisfied: typer<0.5.0,>=0.3.0 in /Users/josephinesimple/opt/anaconda3/lib/python3.9/site-packages (from spacy) (0.4.1)\n",
      "Requirement already satisfied: click<8.1.0 in /Users/josephinesimple/opt/anaconda3/lib/python3.9/site-packages (from spacy) (8.0.3)\n",
      "Requirement already satisfied: setuptools in /Users/josephinesimple/opt/anaconda3/lib/python3.9/site-packages (from spacy) (58.0.4)\n",
      "Requirement already satisfied: jinja2 in /Users/josephinesimple/opt/anaconda3/lib/python3.9/site-packages (from spacy) (2.11.3)\n",
      "Requirement already satisfied: numpy>=1.15.0 in /Users/josephinesimple/opt/anaconda3/lib/python3.9/site-packages (from spacy) (1.20.3)\n",
      "Requirement already satisfied: spacy-loggers<2.0.0,>=1.0.0 in /Users/josephinesimple/opt/anaconda3/lib/python3.9/site-packages (from spacy) (1.0.2)\n",
      "Requirement already satisfied: blis<0.8.0,>=0.4.0 in /Users/josephinesimple/opt/anaconda3/lib/python3.9/site-packages (from spacy) (0.7.7)\n",
      "Requirement already satisfied: requests<3.0.0,>=2.13.0 in /Users/josephinesimple/opt/anaconda3/lib/python3.9/site-packages (from spacy) (2.27.1)\n",
      "Requirement already satisfied: spacy-legacy<3.1.0,>=3.0.8 in /Users/josephinesimple/opt/anaconda3/lib/python3.9/site-packages (from spacy) (3.0.9)\n",
      "Requirement already satisfied: packaging>=20.0 in /Users/josephinesimple/opt/anaconda3/lib/python3.9/site-packages (from spacy) (21.0)\n",
      "Requirement already satisfied: srsly<3.0.0,>=2.4.1 in /Users/josephinesimple/opt/anaconda3/lib/python3.9/site-packages (from spacy) (2.4.3)\n",
      "Requirement already satisfied: thinc<8.1.0,>=8.0.12 in /Users/josephinesimple/opt/anaconda3/lib/python3.9/site-packages (from spacy) (8.0.15)\n",
      "Requirement already satisfied: murmurhash<1.1.0,>=0.28.0 in /Users/josephinesimple/opt/anaconda3/lib/python3.9/site-packages (from spacy) (1.0.6)\n",
      "Requirement already satisfied: langcodes<4.0.0,>=3.2.0 in /Users/josephinesimple/opt/anaconda3/lib/python3.9/site-packages (from spacy) (3.3.0)\n",
      "Requirement already satisfied: pathy>=0.3.5 in /Users/josephinesimple/opt/anaconda3/lib/python3.9/site-packages (from spacy) (0.6.1)\n",
      "Requirement already satisfied: cymem<2.1.0,>=2.0.2 in /Users/josephinesimple/opt/anaconda3/lib/python3.9/site-packages (from spacy) (2.0.6)\n",
      "Requirement already satisfied: catalogue<2.1.0,>=2.0.6 in /Users/josephinesimple/opt/anaconda3/lib/python3.9/site-packages (from spacy) (2.0.7)\n",
      "Requirement already satisfied: pyparsing>=2.0.2 in /Users/josephinesimple/opt/anaconda3/lib/python3.9/site-packages (from packaging>=20.0->spacy) (3.0.4)\n",
      "Requirement already satisfied: smart-open<6.0.0,>=5.0.0 in /Users/josephinesimple/opt/anaconda3/lib/python3.9/site-packages (from pathy>=0.3.5->spacy) (5.2.1)\n",
      "Requirement already satisfied: typing-extensions>=3.7.4.3 in /Users/josephinesimple/opt/anaconda3/lib/python3.9/site-packages (from pydantic!=1.8,!=1.8.1,<1.9.0,>=1.7.4->spacy) (3.10.0.2)\n",
      "Requirement already satisfied: idna<4,>=2.5 in /Users/josephinesimple/opt/anaconda3/lib/python3.9/site-packages (from requests<3.0.0,>=2.13.0->spacy) (3.2)\n",
      "Requirement already satisfied: charset-normalizer~=2.0.0 in /Users/josephinesimple/opt/anaconda3/lib/python3.9/site-packages (from requests<3.0.0,>=2.13.0->spacy) (2.0.4)\n",
      "Requirement already satisfied: urllib3<1.27,>=1.21.1 in /Users/josephinesimple/opt/anaconda3/lib/python3.9/site-packages (from requests<3.0.0,>=2.13.0->spacy) (1.26.7)\n",
      "Requirement already satisfied: certifi>=2017.4.17 in /Users/josephinesimple/opt/anaconda3/lib/python3.9/site-packages (from requests<3.0.0,>=2.13.0->spacy) (2021.10.8)\n",
      "Requirement already satisfied: MarkupSafe>=0.23 in /Users/josephinesimple/opt/anaconda3/lib/python3.9/site-packages (from jinja2->spacy) (1.1.1)\n"
     ]
    }
   ],
   "source": [
    "!pip install spacy"
   ]
  },
  {
   "cell_type": "code",
   "execution_count": 2,
   "metadata": {},
   "outputs": [
    {
     "name": "stdout",
     "output_type": "stream",
     "text": [
      "Requirement already satisfied: textacy in /Users/josephinesimple/opt/anaconda3/lib/python3.9/site-packages (0.12.0)\n",
      "Requirement already satisfied: numpy>=1.17.0 in /Users/josephinesimple/opt/anaconda3/lib/python3.9/site-packages (from textacy) (1.20.3)\n",
      "Requirement already satisfied: networkx>=2.0 in /Users/josephinesimple/opt/anaconda3/lib/python3.9/site-packages (from textacy) (2.6.3)\n",
      "Requirement already satisfied: requests>=2.10.0 in /Users/josephinesimple/opt/anaconda3/lib/python3.9/site-packages (from textacy) (2.27.1)\n",
      "Requirement already satisfied: scikit-learn>=0.19.0 in /Users/josephinesimple/opt/anaconda3/lib/python3.9/site-packages (from textacy) (0.24.2)\n",
      "Requirement already satisfied: catalogue~=2.0 in /Users/josephinesimple/opt/anaconda3/lib/python3.9/site-packages (from textacy) (2.0.7)\n",
      "Requirement already satisfied: spacy>=3.0.0 in /Users/josephinesimple/opt/anaconda3/lib/python3.9/site-packages (from textacy) (3.2.4)\n",
      "Requirement already satisfied: jellyfish>=0.8.0 in /Users/josephinesimple/opt/anaconda3/lib/python3.9/site-packages (from textacy) (0.9.0)\n",
      "Requirement already satisfied: cytoolz>=0.10.1 in /Users/josephinesimple/opt/anaconda3/lib/python3.9/site-packages (from textacy) (0.11.0)\n",
      "Requirement already satisfied: pyphen>=0.10.0 in /Users/josephinesimple/opt/anaconda3/lib/python3.9/site-packages (from textacy) (0.12.0)\n",
      "Requirement already satisfied: scipy>=0.17.0 in /Users/josephinesimple/opt/anaconda3/lib/python3.9/site-packages (from textacy) (1.7.1)\n",
      "Requirement already satisfied: joblib>=0.13.0 in /Users/josephinesimple/opt/anaconda3/lib/python3.9/site-packages (from textacy) (1.1.0)\n",
      "Requirement already satisfied: tqdm>=4.19.6 in /Users/josephinesimple/opt/anaconda3/lib/python3.9/site-packages (from textacy) (4.62.3)\n",
      "Requirement already satisfied: cachetools>=4.0.0 in /Users/josephinesimple/opt/anaconda3/lib/python3.9/site-packages (from textacy) (5.0.0)\n",
      "Requirement already satisfied: toolz>=0.8.0 in /Users/josephinesimple/opt/anaconda3/lib/python3.9/site-packages (from cytoolz>=0.10.1->textacy) (0.11.1)\n",
      "Requirement already satisfied: charset-normalizer~=2.0.0 in /Users/josephinesimple/opt/anaconda3/lib/python3.9/site-packages (from requests>=2.10.0->textacy) (2.0.4)\n",
      "Requirement already satisfied: certifi>=2017.4.17 in /Users/josephinesimple/opt/anaconda3/lib/python3.9/site-packages (from requests>=2.10.0->textacy) (2021.10.8)\n",
      "Requirement already satisfied: idna<4,>=2.5 in /Users/josephinesimple/opt/anaconda3/lib/python3.9/site-packages (from requests>=2.10.0->textacy) (3.2)\n",
      "Requirement already satisfied: urllib3<1.27,>=1.21.1 in /Users/josephinesimple/opt/anaconda3/lib/python3.9/site-packages (from requests>=2.10.0->textacy) (1.26.7)\n",
      "Requirement already satisfied: threadpoolctl>=2.0.0 in /Users/josephinesimple/opt/anaconda3/lib/python3.9/site-packages (from scikit-learn>=0.19.0->textacy) (2.2.0)\n",
      "Requirement already satisfied: click<8.1.0 in /Users/josephinesimple/opt/anaconda3/lib/python3.9/site-packages (from spacy>=3.0.0->textacy) (8.0.3)\n",
      "Requirement already satisfied: packaging>=20.0 in /Users/josephinesimple/opt/anaconda3/lib/python3.9/site-packages (from spacy>=3.0.0->textacy) (21.0)\n",
      "Requirement already satisfied: preshed<3.1.0,>=3.0.2 in /Users/josephinesimple/opt/anaconda3/lib/python3.9/site-packages (from spacy>=3.0.0->textacy) (3.0.6)\n",
      "Requirement already satisfied: pydantic!=1.8,!=1.8.1,<1.9.0,>=1.7.4 in /Users/josephinesimple/opt/anaconda3/lib/python3.9/site-packages (from spacy>=3.0.0->textacy) (1.8.2)\n",
      "Requirement already satisfied: wasabi<1.1.0,>=0.8.1 in /Users/josephinesimple/opt/anaconda3/lib/python3.9/site-packages (from spacy>=3.0.0->textacy) (0.9.1)\n",
      "Requirement already satisfied: blis<0.8.0,>=0.4.0 in /Users/josephinesimple/opt/anaconda3/lib/python3.9/site-packages (from spacy>=3.0.0->textacy) (0.7.7)\n",
      "Requirement already satisfied: typer<0.5.0,>=0.3.0 in /Users/josephinesimple/opt/anaconda3/lib/python3.9/site-packages (from spacy>=3.0.0->textacy) (0.4.1)\n",
      "Requirement already satisfied: spacy-legacy<3.1.0,>=3.0.8 in /Users/josephinesimple/opt/anaconda3/lib/python3.9/site-packages (from spacy>=3.0.0->textacy) (3.0.9)\n",
      "Requirement already satisfied: jinja2 in /Users/josephinesimple/opt/anaconda3/lib/python3.9/site-packages (from spacy>=3.0.0->textacy) (2.11.3)\n",
      "Requirement already satisfied: murmurhash<1.1.0,>=0.28.0 in /Users/josephinesimple/opt/anaconda3/lib/python3.9/site-packages (from spacy>=3.0.0->textacy) (1.0.6)\n",
      "Requirement already satisfied: langcodes<4.0.0,>=3.2.0 in /Users/josephinesimple/opt/anaconda3/lib/python3.9/site-packages (from spacy>=3.0.0->textacy) (3.3.0)\n",
      "Requirement already satisfied: cymem<2.1.0,>=2.0.2 in /Users/josephinesimple/opt/anaconda3/lib/python3.9/site-packages (from spacy>=3.0.0->textacy) (2.0.6)\n",
      "Requirement already satisfied: setuptools in /Users/josephinesimple/opt/anaconda3/lib/python3.9/site-packages (from spacy>=3.0.0->textacy) (58.0.4)\n",
      "Requirement already satisfied: thinc<8.1.0,>=8.0.12 in /Users/josephinesimple/opt/anaconda3/lib/python3.9/site-packages (from spacy>=3.0.0->textacy) (8.0.15)\n",
      "Requirement already satisfied: srsly<3.0.0,>=2.4.1 in /Users/josephinesimple/opt/anaconda3/lib/python3.9/site-packages (from spacy>=3.0.0->textacy) (2.4.3)\n",
      "Requirement already satisfied: spacy-loggers<2.0.0,>=1.0.0 in /Users/josephinesimple/opt/anaconda3/lib/python3.9/site-packages (from spacy>=3.0.0->textacy) (1.0.2)\n",
      "Requirement already satisfied: pathy>=0.3.5 in /Users/josephinesimple/opt/anaconda3/lib/python3.9/site-packages (from spacy>=3.0.0->textacy) (0.6.1)\n",
      "Requirement already satisfied: pyparsing>=2.0.2 in /Users/josephinesimple/opt/anaconda3/lib/python3.9/site-packages (from packaging>=20.0->spacy>=3.0.0->textacy) (3.0.4)\n",
      "Requirement already satisfied: smart-open<6.0.0,>=5.0.0 in /Users/josephinesimple/opt/anaconda3/lib/python3.9/site-packages (from pathy>=0.3.5->spacy>=3.0.0->textacy) (5.2.1)\n",
      "Requirement already satisfied: typing-extensions>=3.7.4.3 in /Users/josephinesimple/opt/anaconda3/lib/python3.9/site-packages (from pydantic!=1.8,!=1.8.1,<1.9.0,>=1.7.4->spacy>=3.0.0->textacy) (3.10.0.2)\n",
      "Requirement already satisfied: MarkupSafe>=0.23 in /Users/josephinesimple/opt/anaconda3/lib/python3.9/site-packages (from jinja2->spacy>=3.0.0->textacy) (1.1.1)\n"
     ]
    }
   ],
   "source": [
    "!pip install textacy"
   ]
  },
  {
   "cell_type": "code",
   "execution_count": 3,
   "metadata": {},
   "outputs": [],
   "source": [
    "import spacy, textacy, re"
   ]
  },
  {
   "cell_type": "code",
   "execution_count": 4,
   "metadata": {},
   "outputs": [],
   "source": [
    "from textacy import extract"
   ]
  },
  {
   "cell_type": "code",
   "execution_count": 5,
   "metadata": {},
   "outputs": [
    {
     "name": "stdout",
     "output_type": "stream",
     "text": [
      "Collecting en-core-web-sm==3.2.0\n",
      "  Downloading https://github.com/explosion/spacy-models/releases/download/en_core_web_sm-3.2.0/en_core_web_sm-3.2.0-py3-none-any.whl (13.9 MB)\n",
      "\u001b[K     |████████████████████████████████| 13.9 MB 7.0 MB/s eta 0:00:01\n",
      "\u001b[?25hRequirement already satisfied: spacy<3.3.0,>=3.2.0 in /Users/josephinesimple/opt/anaconda3/lib/python3.9/site-packages (from en-core-web-sm==3.2.0) (3.2.4)\n",
      "Requirement already satisfied: pydantic!=1.8,!=1.8.1,<1.9.0,>=1.7.4 in /Users/josephinesimple/opt/anaconda3/lib/python3.9/site-packages (from spacy<3.3.0,>=3.2.0->en-core-web-sm==3.2.0) (1.8.2)\n",
      "Requirement already satisfied: click<8.1.0 in /Users/josephinesimple/opt/anaconda3/lib/python3.9/site-packages (from spacy<3.3.0,>=3.2.0->en-core-web-sm==3.2.0) (8.0.3)\n",
      "Requirement already satisfied: packaging>=20.0 in /Users/josephinesimple/opt/anaconda3/lib/python3.9/site-packages (from spacy<3.3.0,>=3.2.0->en-core-web-sm==3.2.0) (21.0)\n",
      "Requirement already satisfied: thinc<8.1.0,>=8.0.12 in /Users/josephinesimple/opt/anaconda3/lib/python3.9/site-packages (from spacy<3.3.0,>=3.2.0->en-core-web-sm==3.2.0) (8.0.15)\n",
      "Requirement already satisfied: langcodes<4.0.0,>=3.2.0 in /Users/josephinesimple/opt/anaconda3/lib/python3.9/site-packages (from spacy<3.3.0,>=3.2.0->en-core-web-sm==3.2.0) (3.3.0)\n",
      "Requirement already satisfied: typer<0.5.0,>=0.3.0 in /Users/josephinesimple/opt/anaconda3/lib/python3.9/site-packages (from spacy<3.3.0,>=3.2.0->en-core-web-sm==3.2.0) (0.4.1)\n",
      "Requirement already satisfied: wasabi<1.1.0,>=0.8.1 in /Users/josephinesimple/opt/anaconda3/lib/python3.9/site-packages (from spacy<3.3.0,>=3.2.0->en-core-web-sm==3.2.0) (0.9.1)\n",
      "Requirement already satisfied: blis<0.8.0,>=0.4.0 in /Users/josephinesimple/opt/anaconda3/lib/python3.9/site-packages (from spacy<3.3.0,>=3.2.0->en-core-web-sm==3.2.0) (0.7.7)\n",
      "Requirement already satisfied: srsly<3.0.0,>=2.4.1 in /Users/josephinesimple/opt/anaconda3/lib/python3.9/site-packages (from spacy<3.3.0,>=3.2.0->en-core-web-sm==3.2.0) (2.4.3)\n",
      "Requirement already satisfied: pathy>=0.3.5 in /Users/josephinesimple/opt/anaconda3/lib/python3.9/site-packages (from spacy<3.3.0,>=3.2.0->en-core-web-sm==3.2.0) (0.6.1)\n",
      "Requirement already satisfied: preshed<3.1.0,>=3.0.2 in /Users/josephinesimple/opt/anaconda3/lib/python3.9/site-packages (from spacy<3.3.0,>=3.2.0->en-core-web-sm==3.2.0) (3.0.6)\n",
      "Requirement already satisfied: spacy-loggers<2.0.0,>=1.0.0 in /Users/josephinesimple/opt/anaconda3/lib/python3.9/site-packages (from spacy<3.3.0,>=3.2.0->en-core-web-sm==3.2.0) (1.0.2)\n",
      "Requirement already satisfied: catalogue<2.1.0,>=2.0.6 in /Users/josephinesimple/opt/anaconda3/lib/python3.9/site-packages (from spacy<3.3.0,>=3.2.0->en-core-web-sm==3.2.0) (2.0.7)\n",
      "Requirement already satisfied: tqdm<5.0.0,>=4.38.0 in /Users/josephinesimple/opt/anaconda3/lib/python3.9/site-packages (from spacy<3.3.0,>=3.2.0->en-core-web-sm==3.2.0) (4.62.3)\n",
      "Requirement already satisfied: requests<3.0.0,>=2.13.0 in /Users/josephinesimple/opt/anaconda3/lib/python3.9/site-packages (from spacy<3.3.0,>=3.2.0->en-core-web-sm==3.2.0) (2.27.1)\n",
      "Requirement already satisfied: spacy-legacy<3.1.0,>=3.0.8 in /Users/josephinesimple/opt/anaconda3/lib/python3.9/site-packages (from spacy<3.3.0,>=3.2.0->en-core-web-sm==3.2.0) (3.0.9)\n",
      "Requirement already satisfied: setuptools in /Users/josephinesimple/opt/anaconda3/lib/python3.9/site-packages (from spacy<3.3.0,>=3.2.0->en-core-web-sm==3.2.0) (58.0.4)\n",
      "Requirement already satisfied: cymem<2.1.0,>=2.0.2 in /Users/josephinesimple/opt/anaconda3/lib/python3.9/site-packages (from spacy<3.3.0,>=3.2.0->en-core-web-sm==3.2.0) (2.0.6)\n",
      "Requirement already satisfied: numpy>=1.15.0 in /Users/josephinesimple/opt/anaconda3/lib/python3.9/site-packages (from spacy<3.3.0,>=3.2.0->en-core-web-sm==3.2.0) (1.20.3)\n",
      "Requirement already satisfied: murmurhash<1.1.0,>=0.28.0 in /Users/josephinesimple/opt/anaconda3/lib/python3.9/site-packages (from spacy<3.3.0,>=3.2.0->en-core-web-sm==3.2.0) (1.0.6)\n",
      "Requirement already satisfied: jinja2 in /Users/josephinesimple/opt/anaconda3/lib/python3.9/site-packages (from spacy<3.3.0,>=3.2.0->en-core-web-sm==3.2.0) (2.11.3)\n",
      "Requirement already satisfied: pyparsing>=2.0.2 in /Users/josephinesimple/opt/anaconda3/lib/python3.9/site-packages (from packaging>=20.0->spacy<3.3.0,>=3.2.0->en-core-web-sm==3.2.0) (3.0.4)\n",
      "Requirement already satisfied: smart-open<6.0.0,>=5.0.0 in /Users/josephinesimple/opt/anaconda3/lib/python3.9/site-packages (from pathy>=0.3.5->spacy<3.3.0,>=3.2.0->en-core-web-sm==3.2.0) (5.2.1)\n",
      "Requirement already satisfied: typing-extensions>=3.7.4.3 in /Users/josephinesimple/opt/anaconda3/lib/python3.9/site-packages (from pydantic!=1.8,!=1.8.1,<1.9.0,>=1.7.4->spacy<3.3.0,>=3.2.0->en-core-web-sm==3.2.0) (3.10.0.2)\n",
      "Requirement already satisfied: urllib3<1.27,>=1.21.1 in /Users/josephinesimple/opt/anaconda3/lib/python3.9/site-packages (from requests<3.0.0,>=2.13.0->spacy<3.3.0,>=3.2.0->en-core-web-sm==3.2.0) (1.26.7)\n",
      "Requirement already satisfied: certifi>=2017.4.17 in /Users/josephinesimple/opt/anaconda3/lib/python3.9/site-packages (from requests<3.0.0,>=2.13.0->spacy<3.3.0,>=3.2.0->en-core-web-sm==3.2.0) (2021.10.8)\n",
      "Requirement already satisfied: idna<4,>=2.5 in /Users/josephinesimple/opt/anaconda3/lib/python3.9/site-packages (from requests<3.0.0,>=2.13.0->spacy<3.3.0,>=3.2.0->en-core-web-sm==3.2.0) (3.2)\n",
      "Requirement already satisfied: charset-normalizer~=2.0.0 in /Users/josephinesimple/opt/anaconda3/lib/python3.9/site-packages (from requests<3.0.0,>=2.13.0->spacy<3.3.0,>=3.2.0->en-core-web-sm==3.2.0) (2.0.4)\n",
      "Requirement already satisfied: MarkupSafe>=0.23 in /Users/josephinesimple/opt/anaconda3/lib/python3.9/site-packages (from jinja2->spacy<3.3.0,>=3.2.0->en-core-web-sm==3.2.0) (1.1.1)\n",
      "\u001b[38;5;2m✔ Download and installation successful\u001b[0m\n",
      "You can now load the package via spacy.load('en_core_web_sm')\n"
     ]
    }
   ],
   "source": [
    "!python -m spacy download en_core_web_sm"
   ]
  },
  {
   "cell_type": "code",
   "execution_count": 6,
   "metadata": {},
   "outputs": [],
   "source": [
    "# TURNS FILE INTO NLP ANALYZABLE OBJECT\n",
    "def text_to_nlp(file_name):\n",
    "    with open (file_name, 'r') as file:\n",
    "        text = file.read()\n",
    "    #nlp = spacy.load('en_core_web_sm')\n",
    "    nlp = textacy.make_spacy_doc(text, lang=\"en_core_web_sm\")\n",
    "    #nlp_text = nlp(text)\n",
    "    return nlp #_text\n",
    "\n",
    "def tokenize_by_word(nlp_text):\n",
    "    return list(nlp_text)"
   ]
  },
  {
   "cell_type": "code",
   "execution_count": 7,
   "metadata": {},
   "outputs": [],
   "source": [
    "def get_nouns(word_list):\n",
    "    nouns = filter(lambda token: token.pos_ == 'NOUN', word_list)\n",
    "    return list(nouns)"
   ]
  },
  {
   "cell_type": "code",
   "execution_count": 8,
   "metadata": {},
   "outputs": [],
   "source": [
    "def get_article_noun_phrases(nlp_text):\n",
    "    noun_phrases = list(nlp_text.noun_chunks)\n",
    "    article_noun_phrases = []\n",
    "    for phrase in noun_phrases:\n",
    "        articles = r\"\\ba\\b|\\bA\\b|\\ban\\b|\\bAn\\b|\\bthe\\b|\\bThe\\b\"\n",
    "        if (len(phrase) >= 3) and (re.search(articles, str(phrase))):\n",
    "            article_noun_phrases.append(phrase)\n",
    "    return list(article_noun_phrases)"
   ]
  },
  {
   "cell_type": "code",
   "execution_count": 9,
   "metadata": {},
   "outputs": [],
   "source": [
    "def get_verb_phrases(nlp_text):\n",
    "    patterns = [\n",
    "                [{\"POS\":\"ADV\"},{\"POS\":\"ADV\"},{\"POS\":\"VERB\"}],\n",
    "                [{\"POS\":\"ADV\"},{\"POS\":\"VERB\"},{\"POS\":\"ADV\"}],\n",
    "                [{\"POS\":\"ADV\"},{\"POS\":\"VERB\"},{\"POS\":\"AUX\"}],\n",
    "                [{\"POS\":\"ADV\"},{\"POS\":\"VERB\"},{\"POS\":\"ADP\"}],\n",
    "                [{\"POS\":\"ADV\"},{\"POS\":\"VERB\"},{\"POS\":\"NOUN\"}],\n",
    "                [{\"POS\":\"ADV\"},{\"POS\":\"VERB\"},{\"POS\":\"PROPN\"}],\n",
    "                [{\"POS\":\"ADV\"},{\"POS\":\"VERB\"},{\"POS\":\"NUM\"}],\n",
    "                [{\"POS\":\"ADV\"},{\"POS\":\"VERB\"},{\"POS\":\"ADV\"}],\n",
    "                [{\"POS\":\"AUX\"},{\"POS\":\"AUX\"},{\"POS\":\"VERB\"}],\n",
    "                [{\"POS\":\"AUX\"},{\"POS\":\"VERB\"},{\"POS\":\"AUX\"}],\n",
    "                [{\"POS\":\"AUX\"},{\"POS\":\"ADV\"},{\"POS\":\"VERB\"}],\n",
    "                [{\"POS\":\"AUX\"},{\"POS\":\"VERB\"},{\"POS\":\"ADV\"}],\n",
    "                [{\"POS\":\"AUX\"},{\"POS\":\"VERB\"},{\"POS\":\"ADP\"}],\n",
    "                [{\"POS\":\"AUX\"},{\"POS\":\"VERB\"},{\"POS\":\"NOUN\"}],\n",
    "                [{\"POS\":\"AUX\"},{\"POS\":\"VERB\"},{\"POS\":\"PROPN\"}],\n",
    "                [{\"POS\":\"AUX\"},{\"POS\":\"VERB\"},{\"POS\":\"NUM\"}],\n",
    "                [{\"POS\":\"VERB\"},{\"POS\":\"AUX\"},{\"POS\":\"ADV\"}],\n",
    "                [{\"POS\":\"VERB\"},{\"POS\":\"ADV\"},{\"POS\":\"ADV\"}],\n",
    "                [{\"POS\":\"VERB\"},{\"POS\":\"ADV\"},{\"POS\":\"ADP\"}],\n",
    "                [{\"POS\":\"VERB\"},{\"POS\":\"ADV\"},{\"POS\":\"NOUN\"}],\n",
    "                [{\"POS\":\"VERB\"},{\"POS\":\"ADV\"},{\"POS\":\"PROPN\"}],\n",
    "                [{\"POS\":\"VERB\"},{\"POS\":\"ADV\"},{\"POS\":\"NUM\"}]\n",
    "               ]\n",
    "    verb_phrases = extract.matches.token_matches(nlp_text, patterns=patterns)\n",
    "    return list(verb_phrases)\n",
    "    "
   ]
  },
  {
   "cell_type": "code",
   "execution_count": 10,
   "metadata": {
    "scrolled": false
   },
   "outputs": [],
   "source": [
    "loglines = text_to_nlp('loglines.txt')"
   ]
  },
  {
   "cell_type": "code",
   "execution_count": 11,
   "metadata": {
    "scrolled": false
   },
   "outputs": [],
   "source": [
    "#print(get_article_noun_phrases(loglines))\n",
    "#print (get_verb_phrases(loglines))"
   ]
  }
 ],
 "metadata": {
  "kernelspec": {
   "display_name": "Python 3 (ipykernel)",
   "language": "python",
   "name": "python3"
  },
  "language_info": {
   "codemirror_mode": {
    "name": "ipython",
    "version": 3
   },
   "file_extension": ".py",
   "mimetype": "text/x-python",
   "name": "python",
   "nbconvert_exporter": "python",
   "pygments_lexer": "ipython3",
   "version": "3.9.7"
  }
 },
 "nbformat": 4,
 "nbformat_minor": 2
}
