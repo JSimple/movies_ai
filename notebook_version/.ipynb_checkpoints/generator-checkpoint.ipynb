{
 "cells": [
  {
   "cell_type": "code",
   "execution_count": 1,
   "id": "6f130d89",
   "metadata": {
    "jupyter": {
     "outputs_hidden": true
    }
   },
   "outputs": [
    {
     "name": "stdout",
     "output_type": "stream",
     "text": [
      "Requirement already satisfied: import-ipynb in /Users/josephinesimple/opt/anaconda3/lib/python3.9/site-packages (0.1.3)\n",
      "Requirement already satisfied: spacy in /Users/josephinesimple/opt/anaconda3/lib/python3.9/site-packages (3.2.4)\n",
      "Requirement already satisfied: numpy>=1.15.0 in /Users/josephinesimple/opt/anaconda3/lib/python3.9/site-packages (from spacy) (1.20.3)\n",
      "Requirement already satisfied: pydantic!=1.8,!=1.8.1,<1.9.0,>=1.7.4 in /Users/josephinesimple/opt/anaconda3/lib/python3.9/site-packages (from spacy) (1.8.2)\n",
      "Requirement already satisfied: thinc<8.1.0,>=8.0.12 in /Users/josephinesimple/opt/anaconda3/lib/python3.9/site-packages (from spacy) (8.0.15)\n",
      "Requirement already satisfied: requests<3.0.0,>=2.13.0 in /Users/josephinesimple/opt/anaconda3/lib/python3.9/site-packages (from spacy) (2.27.1)\n",
      "Requirement already satisfied: packaging>=20.0 in /Users/josephinesimple/opt/anaconda3/lib/python3.9/site-packages (from spacy) (21.0)\n",
      "Requirement already satisfied: setuptools in /Users/josephinesimple/opt/anaconda3/lib/python3.9/site-packages (from spacy) (58.0.4)\n",
      "Requirement already satisfied: langcodes<4.0.0,>=3.2.0 in /Users/josephinesimple/opt/anaconda3/lib/python3.9/site-packages (from spacy) (3.3.0)\n",
      "Requirement already satisfied: spacy-loggers<2.0.0,>=1.0.0 in /Users/josephinesimple/opt/anaconda3/lib/python3.9/site-packages (from spacy) (1.0.2)\n",
      "Requirement already satisfied: tqdm<5.0.0,>=4.38.0 in /Users/josephinesimple/opt/anaconda3/lib/python3.9/site-packages (from spacy) (4.62.3)\n",
      "Requirement already satisfied: click<8.1.0 in /Users/josephinesimple/opt/anaconda3/lib/python3.9/site-packages (from spacy) (8.0.3)\n",
      "Requirement already satisfied: pathy>=0.3.5 in /Users/josephinesimple/opt/anaconda3/lib/python3.9/site-packages (from spacy) (0.6.1)\n",
      "Requirement already satisfied: srsly<3.0.0,>=2.4.1 in /Users/josephinesimple/opt/anaconda3/lib/python3.9/site-packages (from spacy) (2.4.3)\n",
      "Requirement already satisfied: jinja2 in /Users/josephinesimple/opt/anaconda3/lib/python3.9/site-packages (from spacy) (2.11.3)\n",
      "Requirement already satisfied: typer<0.5.0,>=0.3.0 in /Users/josephinesimple/opt/anaconda3/lib/python3.9/site-packages (from spacy) (0.4.1)\n",
      "Requirement already satisfied: murmurhash<1.1.0,>=0.28.0 in /Users/josephinesimple/opt/anaconda3/lib/python3.9/site-packages (from spacy) (1.0.6)\n",
      "Requirement already satisfied: preshed<3.1.0,>=3.0.2 in /Users/josephinesimple/opt/anaconda3/lib/python3.9/site-packages (from spacy) (3.0.6)\n",
      "Requirement already satisfied: wasabi<1.1.0,>=0.8.1 in /Users/josephinesimple/opt/anaconda3/lib/python3.9/site-packages (from spacy) (0.9.1)\n",
      "Requirement already satisfied: catalogue<2.1.0,>=2.0.6 in /Users/josephinesimple/opt/anaconda3/lib/python3.9/site-packages (from spacy) (2.0.7)\n",
      "Requirement already satisfied: cymem<2.1.0,>=2.0.2 in /Users/josephinesimple/opt/anaconda3/lib/python3.9/site-packages (from spacy) (2.0.6)\n",
      "Requirement already satisfied: blis<0.8.0,>=0.4.0 in /Users/josephinesimple/opt/anaconda3/lib/python3.9/site-packages (from spacy) (0.7.7)\n",
      "Requirement already satisfied: spacy-legacy<3.1.0,>=3.0.8 in /Users/josephinesimple/opt/anaconda3/lib/python3.9/site-packages (from spacy) (3.0.9)\n",
      "Requirement already satisfied: pyparsing>=2.0.2 in /Users/josephinesimple/opt/anaconda3/lib/python3.9/site-packages (from packaging>=20.0->spacy) (3.0.4)\n",
      "Requirement already satisfied: smart-open<6.0.0,>=5.0.0 in /Users/josephinesimple/opt/anaconda3/lib/python3.9/site-packages (from pathy>=0.3.5->spacy) (5.2.1)\n",
      "Requirement already satisfied: typing-extensions>=3.7.4.3 in /Users/josephinesimple/opt/anaconda3/lib/python3.9/site-packages (from pydantic!=1.8,!=1.8.1,<1.9.0,>=1.7.4->spacy) (3.10.0.2)\n",
      "Requirement already satisfied: charset-normalizer~=2.0.0 in /Users/josephinesimple/opt/anaconda3/lib/python3.9/site-packages (from requests<3.0.0,>=2.13.0->spacy) (2.0.4)\n",
      "Requirement already satisfied: idna<4,>=2.5 in /Users/josephinesimple/opt/anaconda3/lib/python3.9/site-packages (from requests<3.0.0,>=2.13.0->spacy) (3.2)\n",
      "Requirement already satisfied: certifi>=2017.4.17 in /Users/josephinesimple/opt/anaconda3/lib/python3.9/site-packages (from requests<3.0.0,>=2.13.0->spacy) (2021.10.8)\n",
      "Requirement already satisfied: urllib3<1.27,>=1.21.1 in /Users/josephinesimple/opt/anaconda3/lib/python3.9/site-packages (from requests<3.0.0,>=2.13.0->spacy) (1.26.7)\n",
      "Requirement already satisfied: MarkupSafe>=0.23 in /Users/josephinesimple/opt/anaconda3/lib/python3.9/site-packages (from jinja2->spacy) (1.1.1)\n",
      "Requirement already satisfied: textacy in /Users/josephinesimple/opt/anaconda3/lib/python3.9/site-packages (0.12.0)\n",
      "Requirement already satisfied: joblib>=0.13.0 in /Users/josephinesimple/opt/anaconda3/lib/python3.9/site-packages (from textacy) (1.1.0)\n",
      "Requirement already satisfied: requests>=2.10.0 in /Users/josephinesimple/opt/anaconda3/lib/python3.9/site-packages (from textacy) (2.27.1)\n",
      "Requirement already satisfied: scikit-learn>=0.19.0 in /Users/josephinesimple/opt/anaconda3/lib/python3.9/site-packages (from textacy) (0.24.2)\n",
      "Requirement already satisfied: spacy>=3.0.0 in /Users/josephinesimple/opt/anaconda3/lib/python3.9/site-packages (from textacy) (3.2.4)\n",
      "Requirement already satisfied: cachetools>=4.0.0 in /Users/josephinesimple/opt/anaconda3/lib/python3.9/site-packages (from textacy) (5.0.0)\n",
      "Requirement already satisfied: catalogue~=2.0 in /Users/josephinesimple/opt/anaconda3/lib/python3.9/site-packages (from textacy) (2.0.7)\n",
      "Requirement already satisfied: pyphen>=0.10.0 in /Users/josephinesimple/opt/anaconda3/lib/python3.9/site-packages (from textacy) (0.12.0)\n",
      "Requirement already satisfied: jellyfish>=0.8.0 in /Users/josephinesimple/opt/anaconda3/lib/python3.9/site-packages (from textacy) (0.9.0)\n",
      "Requirement already satisfied: tqdm>=4.19.6 in /Users/josephinesimple/opt/anaconda3/lib/python3.9/site-packages (from textacy) (4.62.3)\n",
      "Requirement already satisfied: cytoolz>=0.10.1 in /Users/josephinesimple/opt/anaconda3/lib/python3.9/site-packages (from textacy) (0.11.0)\n",
      "Requirement already satisfied: scipy>=0.17.0 in /Users/josephinesimple/opt/anaconda3/lib/python3.9/site-packages (from textacy) (1.7.1)\n",
      "Requirement already satisfied: networkx>=2.0 in /Users/josephinesimple/opt/anaconda3/lib/python3.9/site-packages (from textacy) (2.6.3)\n",
      "Requirement already satisfied: numpy>=1.17.0 in /Users/josephinesimple/opt/anaconda3/lib/python3.9/site-packages (from textacy) (1.20.3)\n",
      "Requirement already satisfied: toolz>=0.8.0 in /Users/josephinesimple/opt/anaconda3/lib/python3.9/site-packages (from cytoolz>=0.10.1->textacy) (0.11.1)\n",
      "Requirement already satisfied: urllib3<1.27,>=1.21.1 in /Users/josephinesimple/opt/anaconda3/lib/python3.9/site-packages (from requests>=2.10.0->textacy) (1.26.7)\n",
      "Requirement already satisfied: charset-normalizer~=2.0.0 in /Users/josephinesimple/opt/anaconda3/lib/python3.9/site-packages (from requests>=2.10.0->textacy) (2.0.4)\n",
      "Requirement already satisfied: idna<4,>=2.5 in /Users/josephinesimple/opt/anaconda3/lib/python3.9/site-packages (from requests>=2.10.0->textacy) (3.2)\n",
      "Requirement already satisfied: certifi>=2017.4.17 in /Users/josephinesimple/opt/anaconda3/lib/python3.9/site-packages (from requests>=2.10.0->textacy) (2021.10.8)\n",
      "Requirement already satisfied: threadpoolctl>=2.0.0 in /Users/josephinesimple/opt/anaconda3/lib/python3.9/site-packages (from scikit-learn>=0.19.0->textacy) (2.2.0)\n",
      "Requirement already satisfied: jinja2 in /Users/josephinesimple/opt/anaconda3/lib/python3.9/site-packages (from spacy>=3.0.0->textacy) (2.11.3)\n",
      "Requirement already satisfied: packaging>=20.0 in /Users/josephinesimple/opt/anaconda3/lib/python3.9/site-packages (from spacy>=3.0.0->textacy) (21.0)\n",
      "Requirement already satisfied: murmurhash<1.1.0,>=0.28.0 in /Users/josephinesimple/opt/anaconda3/lib/python3.9/site-packages (from spacy>=3.0.0->textacy) (1.0.6)\n",
      "Requirement already satisfied: spacy-legacy<3.1.0,>=3.0.8 in /Users/josephinesimple/opt/anaconda3/lib/python3.9/site-packages (from spacy>=3.0.0->textacy) (3.0.9)\n",
      "Requirement already satisfied: spacy-loggers<2.0.0,>=1.0.0 in /Users/josephinesimple/opt/anaconda3/lib/python3.9/site-packages (from spacy>=3.0.0->textacy) (1.0.2)\n",
      "Requirement already satisfied: cymem<2.1.0,>=2.0.2 in /Users/josephinesimple/opt/anaconda3/lib/python3.9/site-packages (from spacy>=3.0.0->textacy) (2.0.6)\n",
      "Requirement already satisfied: thinc<8.1.0,>=8.0.12 in /Users/josephinesimple/opt/anaconda3/lib/python3.9/site-packages (from spacy>=3.0.0->textacy) (8.0.15)\n",
      "Requirement already satisfied: click<8.1.0 in /Users/josephinesimple/opt/anaconda3/lib/python3.9/site-packages (from spacy>=3.0.0->textacy) (8.0.3)\n",
      "Requirement already satisfied: langcodes<4.0.0,>=3.2.0 in /Users/josephinesimple/opt/anaconda3/lib/python3.9/site-packages (from spacy>=3.0.0->textacy) (3.3.0)\n",
      "Requirement already satisfied: pydantic!=1.8,!=1.8.1,<1.9.0,>=1.7.4 in /Users/josephinesimple/opt/anaconda3/lib/python3.9/site-packages (from spacy>=3.0.0->textacy) (1.8.2)\n",
      "Requirement already satisfied: preshed<3.1.0,>=3.0.2 in /Users/josephinesimple/opt/anaconda3/lib/python3.9/site-packages (from spacy>=3.0.0->textacy) (3.0.6)\n",
      "Requirement already satisfied: setuptools in /Users/josephinesimple/opt/anaconda3/lib/python3.9/site-packages (from spacy>=3.0.0->textacy) (58.0.4)\n",
      "Requirement already satisfied: pathy>=0.3.5 in /Users/josephinesimple/opt/anaconda3/lib/python3.9/site-packages (from spacy>=3.0.0->textacy) (0.6.1)\n",
      "Requirement already satisfied: wasabi<1.1.0,>=0.8.1 in /Users/josephinesimple/opt/anaconda3/lib/python3.9/site-packages (from spacy>=3.0.0->textacy) (0.9.1)\n",
      "Requirement already satisfied: typer<0.5.0,>=0.3.0 in /Users/josephinesimple/opt/anaconda3/lib/python3.9/site-packages (from spacy>=3.0.0->textacy) (0.4.1)\n",
      "Requirement already satisfied: srsly<3.0.0,>=2.4.1 in /Users/josephinesimple/opt/anaconda3/lib/python3.9/site-packages (from spacy>=3.0.0->textacy) (2.4.3)\n",
      "Requirement already satisfied: blis<0.8.0,>=0.4.0 in /Users/josephinesimple/opt/anaconda3/lib/python3.9/site-packages (from spacy>=3.0.0->textacy) (0.7.7)\n"
     ]
    },
    {
     "name": "stdout",
     "output_type": "stream",
     "text": [
      "Requirement already satisfied: pyparsing>=2.0.2 in /Users/josephinesimple/opt/anaconda3/lib/python3.9/site-packages (from packaging>=20.0->spacy>=3.0.0->textacy) (3.0.4)\n",
      "Requirement already satisfied: smart-open<6.0.0,>=5.0.0 in /Users/josephinesimple/opt/anaconda3/lib/python3.9/site-packages (from pathy>=0.3.5->spacy>=3.0.0->textacy) (5.2.1)\n",
      "Requirement already satisfied: typing-extensions>=3.7.4.3 in /Users/josephinesimple/opt/anaconda3/lib/python3.9/site-packages (from pydantic!=1.8,!=1.8.1,<1.9.0,>=1.7.4->spacy>=3.0.0->textacy) (3.10.0.2)\n",
      "Requirement already satisfied: MarkupSafe>=0.23 in /Users/josephinesimple/opt/anaconda3/lib/python3.9/site-packages (from jinja2->spacy>=3.0.0->textacy) (1.1.1)\n",
      "Requirement already satisfied: transformers in /Users/josephinesimple/opt/anaconda3/lib/python3.9/site-packages (4.18.0)\n",
      "Requirement already satisfied: filelock in /Users/josephinesimple/opt/anaconda3/lib/python3.9/site-packages (from transformers) (3.3.1)\n",
      "Requirement already satisfied: tokenizers!=0.11.3,<0.13,>=0.11.1 in /Users/josephinesimple/opt/anaconda3/lib/python3.9/site-packages (from transformers) (0.12.1)\n",
      "Requirement already satisfied: regex!=2019.12.17 in /Users/josephinesimple/opt/anaconda3/lib/python3.9/site-packages (from transformers) (2021.8.3)\n",
      "Requirement already satisfied: pyyaml>=5.1 in /Users/josephinesimple/opt/anaconda3/lib/python3.9/site-packages (from transformers) (6.0)\n",
      "Requirement already satisfied: tqdm>=4.27 in /Users/josephinesimple/opt/anaconda3/lib/python3.9/site-packages (from transformers) (4.62.3)\n",
      "Requirement already satisfied: numpy>=1.17 in /Users/josephinesimple/opt/anaconda3/lib/python3.9/site-packages (from transformers) (1.20.3)\n",
      "Requirement already satisfied: requests in /Users/josephinesimple/opt/anaconda3/lib/python3.9/site-packages (from transformers) (2.27.1)\n",
      "Requirement already satisfied: sacremoses in /Users/josephinesimple/opt/anaconda3/lib/python3.9/site-packages (from transformers) (0.0.49)\n",
      "Requirement already satisfied: huggingface-hub<1.0,>=0.1.0 in /Users/josephinesimple/opt/anaconda3/lib/python3.9/site-packages (from transformers) (0.5.1)\n",
      "Requirement already satisfied: packaging>=20.0 in /Users/josephinesimple/opt/anaconda3/lib/python3.9/site-packages (from transformers) (21.0)\n",
      "Requirement already satisfied: typing-extensions>=3.7.4.3 in /Users/josephinesimple/opt/anaconda3/lib/python3.9/site-packages (from huggingface-hub<1.0,>=0.1.0->transformers) (3.10.0.2)\n",
      "Requirement already satisfied: pyparsing>=2.0.2 in /Users/josephinesimple/opt/anaconda3/lib/python3.9/site-packages (from packaging>=20.0->transformers) (3.0.4)\n",
      "Requirement already satisfied: urllib3<1.27,>=1.21.1 in /Users/josephinesimple/opt/anaconda3/lib/python3.9/site-packages (from requests->transformers) (1.26.7)\n",
      "Requirement already satisfied: idna<4,>=2.5 in /Users/josephinesimple/opt/anaconda3/lib/python3.9/site-packages (from requests->transformers) (3.2)\n",
      "Requirement already satisfied: certifi>=2017.4.17 in /Users/josephinesimple/opt/anaconda3/lib/python3.9/site-packages (from requests->transformers) (2021.10.8)\n",
      "Requirement already satisfied: charset-normalizer~=2.0.0 in /Users/josephinesimple/opt/anaconda3/lib/python3.9/site-packages (from requests->transformers) (2.0.4)\n",
      "Requirement already satisfied: six in /Users/josephinesimple/opt/anaconda3/lib/python3.9/site-packages (from sacremoses->transformers) (1.16.0)\n",
      "Requirement already satisfied: joblib in /Users/josephinesimple/opt/anaconda3/lib/python3.9/site-packages (from sacremoses->transformers) (1.1.0)\n",
      "Requirement already satisfied: click in /Users/josephinesimple/opt/anaconda3/lib/python3.9/site-packages (from sacremoses->transformers) (8.0.3)\n",
      "Requirement already satisfied: torch in /Users/josephinesimple/opt/anaconda3/lib/python3.9/site-packages (1.11.0)\n",
      "Requirement already satisfied: typing-extensions in /Users/josephinesimple/opt/anaconda3/lib/python3.9/site-packages (from torch) (3.10.0.2)\n"
     ]
    }
   ],
   "source": [
    "## for importing modules ##\n",
    "!pip install import-ipynb\n",
    "## for prompt gen ##\n",
    "!pip install spacy\n",
    "!pip install textacy\n",
    "## for logline gen ##\n",
    "!pip install transformers\n",
    "!pip install torch"
   ]
  },
  {
   "cell_type": "code",
   "execution_count": 2,
   "id": "62b8a811",
   "metadata": {},
   "outputs": [],
   "source": [
    "import spacy, textacy, re, import_ipynb, random"
   ]
  },
  {
   "cell_type": "code",
   "execution_count": 3,
   "id": "61773253",
   "metadata": {},
   "outputs": [],
   "source": [
    "from textacy import extract"
   ]
  },
  {
   "cell_type": "code",
   "execution_count": 4,
   "id": "9458ef93",
   "metadata": {
    "jupyter": {
     "outputs_hidden": true
    },
    "scrolled": true,
    "tags": []
   },
   "outputs": [
    {
     "name": "stdout",
     "output_type": "stream",
     "text": [
      "importing Jupyter notebook from parts_of_speech.ipynb\n",
      "Requirement already satisfied: spacy in /Users/josephinesimple/opt/anaconda3/lib/python3.9/site-packages (3.2.4)\n",
      "Requirement already satisfied: langcodes<4.0.0,>=3.2.0 in /Users/josephinesimple/opt/anaconda3/lib/python3.9/site-packages (from spacy) (3.3.0)\n",
      "Requirement already satisfied: srsly<3.0.0,>=2.4.1 in /Users/josephinesimple/opt/anaconda3/lib/python3.9/site-packages (from spacy) (2.4.3)\n",
      "Requirement already satisfied: spacy-legacy<3.1.0,>=3.0.8 in /Users/josephinesimple/opt/anaconda3/lib/python3.9/site-packages (from spacy) (3.0.9)\n",
      "Requirement already satisfied: pydantic!=1.8,!=1.8.1,<1.9.0,>=1.7.4 in /Users/josephinesimple/opt/anaconda3/lib/python3.9/site-packages (from spacy) (1.8.2)\n",
      "Requirement already satisfied: catalogue<2.1.0,>=2.0.6 in /Users/josephinesimple/opt/anaconda3/lib/python3.9/site-packages (from spacy) (2.0.7)\n",
      "Requirement already satisfied: numpy>=1.15.0 in /Users/josephinesimple/opt/anaconda3/lib/python3.9/site-packages (from spacy) (1.20.3)\n",
      "Requirement already satisfied: pathy>=0.3.5 in /Users/josephinesimple/opt/anaconda3/lib/python3.9/site-packages (from spacy) (0.6.1)\n",
      "Requirement already satisfied: cymem<2.1.0,>=2.0.2 in /Users/josephinesimple/opt/anaconda3/lib/python3.9/site-packages (from spacy) (2.0.6)\n",
      "Requirement already satisfied: blis<0.8.0,>=0.4.0 in /Users/josephinesimple/opt/anaconda3/lib/python3.9/site-packages (from spacy) (0.7.7)\n",
      "Requirement already satisfied: thinc<8.1.0,>=8.0.12 in /Users/josephinesimple/opt/anaconda3/lib/python3.9/site-packages (from spacy) (8.0.15)\n",
      "Requirement already satisfied: setuptools in /Users/josephinesimple/opt/anaconda3/lib/python3.9/site-packages (from spacy) (58.0.4)\n",
      "Requirement already satisfied: wasabi<1.1.0,>=0.8.1 in /Users/josephinesimple/opt/anaconda3/lib/python3.9/site-packages (from spacy) (0.9.1)\n",
      "Requirement already satisfied: click<8.1.0 in /Users/josephinesimple/opt/anaconda3/lib/python3.9/site-packages (from spacy) (8.0.3)\n",
      "Requirement already satisfied: preshed<3.1.0,>=3.0.2 in /Users/josephinesimple/opt/anaconda3/lib/python3.9/site-packages (from spacy) (3.0.6)\n",
      "Requirement already satisfied: packaging>=20.0 in /Users/josephinesimple/opt/anaconda3/lib/python3.9/site-packages (from spacy) (21.0)\n",
      "Requirement already satisfied: tqdm<5.0.0,>=4.38.0 in /Users/josephinesimple/opt/anaconda3/lib/python3.9/site-packages (from spacy) (4.62.3)\n",
      "Requirement already satisfied: requests<3.0.0,>=2.13.0 in /Users/josephinesimple/opt/anaconda3/lib/python3.9/site-packages (from spacy) (2.27.1)\n",
      "Requirement already satisfied: jinja2 in /Users/josephinesimple/opt/anaconda3/lib/python3.9/site-packages (from spacy) (2.11.3)\n",
      "Requirement already satisfied: spacy-loggers<2.0.0,>=1.0.0 in /Users/josephinesimple/opt/anaconda3/lib/python3.9/site-packages (from spacy) (1.0.2)\n",
      "Requirement already satisfied: murmurhash<1.1.0,>=0.28.0 in /Users/josephinesimple/opt/anaconda3/lib/python3.9/site-packages (from spacy) (1.0.6)\n",
      "Requirement already satisfied: typer<0.5.0,>=0.3.0 in /Users/josephinesimple/opt/anaconda3/lib/python3.9/site-packages (from spacy) (0.4.1)\n",
      "Requirement already satisfied: pyparsing>=2.0.2 in /Users/josephinesimple/opt/anaconda3/lib/python3.9/site-packages (from packaging>=20.0->spacy) (3.0.4)\n",
      "Requirement already satisfied: smart-open<6.0.0,>=5.0.0 in /Users/josephinesimple/opt/anaconda3/lib/python3.9/site-packages (from pathy>=0.3.5->spacy) (5.2.1)\n",
      "Requirement already satisfied: typing-extensions>=3.7.4.3 in /Users/josephinesimple/opt/anaconda3/lib/python3.9/site-packages (from pydantic!=1.8,!=1.8.1,<1.9.0,>=1.7.4->spacy) (3.10.0.2)\n",
      "Requirement already satisfied: urllib3<1.27,>=1.21.1 in /Users/josephinesimple/opt/anaconda3/lib/python3.9/site-packages (from requests<3.0.0,>=2.13.0->spacy) (1.26.7)\n",
      "Requirement already satisfied: charset-normalizer~=2.0.0 in /Users/josephinesimple/opt/anaconda3/lib/python3.9/site-packages (from requests<3.0.0,>=2.13.0->spacy) (2.0.4)\n",
      "Requirement already satisfied: idna<4,>=2.5 in /Users/josephinesimple/opt/anaconda3/lib/python3.9/site-packages (from requests<3.0.0,>=2.13.0->spacy) (3.2)\n",
      "Requirement already satisfied: certifi>=2017.4.17 in /Users/josephinesimple/opt/anaconda3/lib/python3.9/site-packages (from requests<3.0.0,>=2.13.0->spacy) (2021.10.8)\n",
      "Requirement already satisfied: MarkupSafe>=0.23 in /Users/josephinesimple/opt/anaconda3/lib/python3.9/site-packages (from jinja2->spacy) (1.1.1)\n",
      "Requirement already satisfied: textacy in /Users/josephinesimple/opt/anaconda3/lib/python3.9/site-packages (0.12.0)\n",
      "Requirement already satisfied: scipy>=0.17.0 in /Users/josephinesimple/opt/anaconda3/lib/python3.9/site-packages (from textacy) (1.7.1)\n",
      "Requirement already satisfied: requests>=2.10.0 in /Users/josephinesimple/opt/anaconda3/lib/python3.9/site-packages (from textacy) (2.27.1)\n",
      "Requirement already satisfied: scikit-learn>=0.19.0 in /Users/josephinesimple/opt/anaconda3/lib/python3.9/site-packages (from textacy) (0.24.2)\n",
      "Requirement already satisfied: joblib>=0.13.0 in /Users/josephinesimple/opt/anaconda3/lib/python3.9/site-packages (from textacy) (1.1.0)\n",
      "Requirement already satisfied: spacy>=3.0.0 in /Users/josephinesimple/opt/anaconda3/lib/python3.9/site-packages (from textacy) (3.2.4)\n",
      "Requirement already satisfied: cytoolz>=0.10.1 in /Users/josephinesimple/opt/anaconda3/lib/python3.9/site-packages (from textacy) (0.11.0)\n",
      "Requirement already satisfied: cachetools>=4.0.0 in /Users/josephinesimple/opt/anaconda3/lib/python3.9/site-packages (from textacy) (5.0.0)\n",
      "Requirement already satisfied: tqdm>=4.19.6 in /Users/josephinesimple/opt/anaconda3/lib/python3.9/site-packages (from textacy) (4.62.3)\n",
      "Requirement already satisfied: networkx>=2.0 in /Users/josephinesimple/opt/anaconda3/lib/python3.9/site-packages (from textacy) (2.6.3)\n",
      "Requirement already satisfied: numpy>=1.17.0 in /Users/josephinesimple/opt/anaconda3/lib/python3.9/site-packages (from textacy) (1.20.3)\n",
      "Requirement already satisfied: catalogue~=2.0 in /Users/josephinesimple/opt/anaconda3/lib/python3.9/site-packages (from textacy) (2.0.7)\n",
      "Requirement already satisfied: jellyfish>=0.8.0 in /Users/josephinesimple/opt/anaconda3/lib/python3.9/site-packages (from textacy) (0.9.0)\n",
      "Requirement already satisfied: pyphen>=0.10.0 in /Users/josephinesimple/opt/anaconda3/lib/python3.9/site-packages (from textacy) (0.12.0)\n",
      "Requirement already satisfied: toolz>=0.8.0 in /Users/josephinesimple/opt/anaconda3/lib/python3.9/site-packages (from cytoolz>=0.10.1->textacy) (0.11.1)\n",
      "Requirement already satisfied: certifi>=2017.4.17 in /Users/josephinesimple/opt/anaconda3/lib/python3.9/site-packages (from requests>=2.10.0->textacy) (2021.10.8)\n",
      "Requirement already satisfied: urllib3<1.27,>=1.21.1 in /Users/josephinesimple/opt/anaconda3/lib/python3.9/site-packages (from requests>=2.10.0->textacy) (1.26.7)\n",
      "Requirement already satisfied: idna<4,>=2.5 in /Users/josephinesimple/opt/anaconda3/lib/python3.9/site-packages (from requests>=2.10.0->textacy) (3.2)\n",
      "Requirement already satisfied: charset-normalizer~=2.0.0 in /Users/josephinesimple/opt/anaconda3/lib/python3.9/site-packages (from requests>=2.10.0->textacy) (2.0.4)\n",
      "Requirement already satisfied: threadpoolctl>=2.0.0 in /Users/josephinesimple/opt/anaconda3/lib/python3.9/site-packages (from scikit-learn>=0.19.0->textacy) (2.2.0)\n",
      "Requirement already satisfied: spacy-loggers<2.0.0,>=1.0.0 in /Users/josephinesimple/opt/anaconda3/lib/python3.9/site-packages (from spacy>=3.0.0->textacy) (1.0.2)\n",
      "Requirement already satisfied: pydantic!=1.8,!=1.8.1,<1.9.0,>=1.7.4 in /Users/josephinesimple/opt/anaconda3/lib/python3.9/site-packages (from spacy>=3.0.0->textacy) (1.8.2)\n",
      "Requirement already satisfied: blis<0.8.0,>=0.4.0 in /Users/josephinesimple/opt/anaconda3/lib/python3.9/site-packages (from spacy>=3.0.0->textacy) (0.7.7)\n",
      "Requirement already satisfied: setuptools in /Users/josephinesimple/opt/anaconda3/lib/python3.9/site-packages (from spacy>=3.0.0->textacy) (58.0.4)\n",
      "Requirement already satisfied: murmurhash<1.1.0,>=0.28.0 in /Users/josephinesimple/opt/anaconda3/lib/python3.9/site-packages (from spacy>=3.0.0->textacy) (1.0.6)\n",
      "Requirement already satisfied: thinc<8.1.0,>=8.0.12 in /Users/josephinesimple/opt/anaconda3/lib/python3.9/site-packages (from spacy>=3.0.0->textacy) (8.0.15)\n",
      "Requirement already satisfied: srsly<3.0.0,>=2.4.1 in /Users/josephinesimple/opt/anaconda3/lib/python3.9/site-packages (from spacy>=3.0.0->textacy) (2.4.3)\n",
      "Requirement already satisfied: preshed<3.1.0,>=3.0.2 in /Users/josephinesimple/opt/anaconda3/lib/python3.9/site-packages (from spacy>=3.0.0->textacy) (3.0.6)\n",
      "Requirement already satisfied: cymem<2.1.0,>=2.0.2 in /Users/josephinesimple/opt/anaconda3/lib/python3.9/site-packages (from spacy>=3.0.0->textacy) (2.0.6)\n",
      "Requirement already satisfied: click<8.1.0 in /Users/josephinesimple/opt/anaconda3/lib/python3.9/site-packages (from spacy>=3.0.0->textacy) (8.0.3)\n",
      "Requirement already satisfied: packaging>=20.0 in /Users/josephinesimple/opt/anaconda3/lib/python3.9/site-packages (from spacy>=3.0.0->textacy) (21.0)\n",
      "Requirement already satisfied: wasabi<1.1.0,>=0.8.1 in /Users/josephinesimple/opt/anaconda3/lib/python3.9/site-packages (from spacy>=3.0.0->textacy) (0.9.1)\n",
      "Requirement already satisfied: langcodes<4.0.0,>=3.2.0 in /Users/josephinesimple/opt/anaconda3/lib/python3.9/site-packages (from spacy>=3.0.0->textacy) (3.3.0)\n",
      "Requirement already satisfied: typer<0.5.0,>=0.3.0 in /Users/josephinesimple/opt/anaconda3/lib/python3.9/site-packages (from spacy>=3.0.0->textacy) (0.4.1)\n",
      "Requirement already satisfied: spacy-legacy<3.1.0,>=3.0.8 in /Users/josephinesimple/opt/anaconda3/lib/python3.9/site-packages (from spacy>=3.0.0->textacy) (3.0.9)\n",
      "Requirement already satisfied: pathy>=0.3.5 in /Users/josephinesimple/opt/anaconda3/lib/python3.9/site-packages (from spacy>=3.0.0->textacy) (0.6.1)\n",
      "Requirement already satisfied: jinja2 in /Users/josephinesimple/opt/anaconda3/lib/python3.9/site-packages (from spacy>=3.0.0->textacy) (2.11.3)\n",
      "Requirement already satisfied: pyparsing>=2.0.2 in /Users/josephinesimple/opt/anaconda3/lib/python3.9/site-packages (from packaging>=20.0->spacy>=3.0.0->textacy) (3.0.4)\n"
     ]
    },
    {
     "name": "stdout",
     "output_type": "stream",
     "text": [
      "Requirement already satisfied: smart-open<6.0.0,>=5.0.0 in /Users/josephinesimple/opt/anaconda3/lib/python3.9/site-packages (from pathy>=0.3.5->spacy>=3.0.0->textacy) (5.2.1)\n",
      "Requirement already satisfied: typing-extensions>=3.7.4.3 in /Users/josephinesimple/opt/anaconda3/lib/python3.9/site-packages (from pydantic!=1.8,!=1.8.1,<1.9.0,>=1.7.4->spacy>=3.0.0->textacy) (3.10.0.2)\n",
      "Requirement already satisfied: MarkupSafe>=0.23 in /Users/josephinesimple/opt/anaconda3/lib/python3.9/site-packages (from jinja2->spacy>=3.0.0->textacy) (1.1.1)\n",
      "Collecting en-core-web-sm==3.2.0\n",
      "  Downloading https://github.com/explosion/spacy-models/releases/download/en_core_web_sm-3.2.0/en_core_web_sm-3.2.0-py3-none-any.whl (13.9 MB)\n",
      "\u001b[K     |████████████████████████████████| 13.9 MB 309 kB/s eta 0:00:01\n",
      "\u001b[?25hRequirement already satisfied: spacy<3.3.0,>=3.2.0 in /Users/josephinesimple/opt/anaconda3/lib/python3.9/site-packages (from en-core-web-sm==3.2.0) (3.2.4)\n",
      "Requirement already satisfied: wasabi<1.1.0,>=0.8.1 in /Users/josephinesimple/opt/anaconda3/lib/python3.9/site-packages (from spacy<3.3.0,>=3.2.0->en-core-web-sm==3.2.0) (0.9.1)\n",
      "Requirement already satisfied: typer<0.5.0,>=0.3.0 in /Users/josephinesimple/opt/anaconda3/lib/python3.9/site-packages (from spacy<3.3.0,>=3.2.0->en-core-web-sm==3.2.0) (0.4.1)\n",
      "Requirement already satisfied: jinja2 in /Users/josephinesimple/opt/anaconda3/lib/python3.9/site-packages (from spacy<3.3.0,>=3.2.0->en-core-web-sm==3.2.0) (2.11.3)\n",
      "Requirement already satisfied: srsly<3.0.0,>=2.4.1 in /Users/josephinesimple/opt/anaconda3/lib/python3.9/site-packages (from spacy<3.3.0,>=3.2.0->en-core-web-sm==3.2.0) (2.4.3)\n",
      "Requirement already satisfied: spacy-legacy<3.1.0,>=3.0.8 in /Users/josephinesimple/opt/anaconda3/lib/python3.9/site-packages (from spacy<3.3.0,>=3.2.0->en-core-web-sm==3.2.0) (3.0.9)\n",
      "Requirement already satisfied: tqdm<5.0.0,>=4.38.0 in /Users/josephinesimple/opt/anaconda3/lib/python3.9/site-packages (from spacy<3.3.0,>=3.2.0->en-core-web-sm==3.2.0) (4.62.3)\n",
      "Requirement already satisfied: catalogue<2.1.0,>=2.0.6 in /Users/josephinesimple/opt/anaconda3/lib/python3.9/site-packages (from spacy<3.3.0,>=3.2.0->en-core-web-sm==3.2.0) (2.0.7)\n",
      "Requirement already satisfied: langcodes<4.0.0,>=3.2.0 in /Users/josephinesimple/opt/anaconda3/lib/python3.9/site-packages (from spacy<3.3.0,>=3.2.0->en-core-web-sm==3.2.0) (3.3.0)\n",
      "Requirement already satisfied: numpy>=1.15.0 in /Users/josephinesimple/opt/anaconda3/lib/python3.9/site-packages (from spacy<3.3.0,>=3.2.0->en-core-web-sm==3.2.0) (1.20.3)\n",
      "Requirement already satisfied: packaging>=20.0 in /Users/josephinesimple/opt/anaconda3/lib/python3.9/site-packages (from spacy<3.3.0,>=3.2.0->en-core-web-sm==3.2.0) (21.0)\n",
      "Requirement already satisfied: preshed<3.1.0,>=3.0.2 in /Users/josephinesimple/opt/anaconda3/lib/python3.9/site-packages (from spacy<3.3.0,>=3.2.0->en-core-web-sm==3.2.0) (3.0.6)\n",
      "Requirement already satisfied: spacy-loggers<2.0.0,>=1.0.0 in /Users/josephinesimple/opt/anaconda3/lib/python3.9/site-packages (from spacy<3.3.0,>=3.2.0->en-core-web-sm==3.2.0) (1.0.2)\n",
      "Requirement already satisfied: murmurhash<1.1.0,>=0.28.0 in /Users/josephinesimple/opt/anaconda3/lib/python3.9/site-packages (from spacy<3.3.0,>=3.2.0->en-core-web-sm==3.2.0) (1.0.6)\n",
      "Requirement already satisfied: cymem<2.1.0,>=2.0.2 in /Users/josephinesimple/opt/anaconda3/lib/python3.9/site-packages (from spacy<3.3.0,>=3.2.0->en-core-web-sm==3.2.0) (2.0.6)\n",
      "Requirement already satisfied: blis<0.8.0,>=0.4.0 in /Users/josephinesimple/opt/anaconda3/lib/python3.9/site-packages (from spacy<3.3.0,>=3.2.0->en-core-web-sm==3.2.0) (0.7.7)\n",
      "Requirement already satisfied: pydantic!=1.8,!=1.8.1,<1.9.0,>=1.7.4 in /Users/josephinesimple/opt/anaconda3/lib/python3.9/site-packages (from spacy<3.3.0,>=3.2.0->en-core-web-sm==3.2.0) (1.8.2)\n",
      "Requirement already satisfied: thinc<8.1.0,>=8.0.12 in /Users/josephinesimple/opt/anaconda3/lib/python3.9/site-packages (from spacy<3.3.0,>=3.2.0->en-core-web-sm==3.2.0) (8.0.15)\n",
      "Requirement already satisfied: pathy>=0.3.5 in /Users/josephinesimple/opt/anaconda3/lib/python3.9/site-packages (from spacy<3.3.0,>=3.2.0->en-core-web-sm==3.2.0) (0.6.1)\n",
      "Requirement already satisfied: click<8.1.0 in /Users/josephinesimple/opt/anaconda3/lib/python3.9/site-packages (from spacy<3.3.0,>=3.2.0->en-core-web-sm==3.2.0) (8.0.3)\n",
      "Requirement already satisfied: setuptools in /Users/josephinesimple/opt/anaconda3/lib/python3.9/site-packages (from spacy<3.3.0,>=3.2.0->en-core-web-sm==3.2.0) (58.0.4)\n",
      "Requirement already satisfied: requests<3.0.0,>=2.13.0 in /Users/josephinesimple/opt/anaconda3/lib/python3.9/site-packages (from spacy<3.3.0,>=3.2.0->en-core-web-sm==3.2.0) (2.27.1)\n",
      "Requirement already satisfied: pyparsing>=2.0.2 in /Users/josephinesimple/opt/anaconda3/lib/python3.9/site-packages (from packaging>=20.0->spacy<3.3.0,>=3.2.0->en-core-web-sm==3.2.0) (3.0.4)\n",
      "Requirement already satisfied: smart-open<6.0.0,>=5.0.0 in /Users/josephinesimple/opt/anaconda3/lib/python3.9/site-packages (from pathy>=0.3.5->spacy<3.3.0,>=3.2.0->en-core-web-sm==3.2.0) (5.2.1)\n",
      "Requirement already satisfied: typing-extensions>=3.7.4.3 in /Users/josephinesimple/opt/anaconda3/lib/python3.9/site-packages (from pydantic!=1.8,!=1.8.1,<1.9.0,>=1.7.4->spacy<3.3.0,>=3.2.0->en-core-web-sm==3.2.0) (3.10.0.2)\n",
      "Requirement already satisfied: certifi>=2017.4.17 in /Users/josephinesimple/opt/anaconda3/lib/python3.9/site-packages (from requests<3.0.0,>=2.13.0->spacy<3.3.0,>=3.2.0->en-core-web-sm==3.2.0) (2021.10.8)\n",
      "Requirement already satisfied: idna<4,>=2.5 in /Users/josephinesimple/opt/anaconda3/lib/python3.9/site-packages (from requests<3.0.0,>=2.13.0->spacy<3.3.0,>=3.2.0->en-core-web-sm==3.2.0) (3.2)\n",
      "Requirement already satisfied: urllib3<1.27,>=1.21.1 in /Users/josephinesimple/opt/anaconda3/lib/python3.9/site-packages (from requests<3.0.0,>=2.13.0->spacy<3.3.0,>=3.2.0->en-core-web-sm==3.2.0) (1.26.7)\n",
      "Requirement already satisfied: charset-normalizer~=2.0.0 in /Users/josephinesimple/opt/anaconda3/lib/python3.9/site-packages (from requests<3.0.0,>=2.13.0->spacy<3.3.0,>=3.2.0->en-core-web-sm==3.2.0) (2.0.4)\n",
      "Requirement already satisfied: MarkupSafe>=0.23 in /Users/josephinesimple/opt/anaconda3/lib/python3.9/site-packages (from jinja2->spacy<3.3.0,>=3.2.0->en-core-web-sm==3.2.0) (1.1.1)\n",
      "\u001b[38;5;2m✔ Download and installation successful\u001b[0m\n",
      "You can now load the package via spacy.load('en_core_web_sm')\n"
     ]
    }
   ],
   "source": [
    "from parts_of_speech import text_to_nlp, get_article_noun_phrases, get_verb_phrases"
   ]
  },
  {
   "cell_type": "code",
   "execution_count": 5,
   "id": "937cfc57",
   "metadata": {},
   "outputs": [],
   "source": [
    "## for logline gen ##\n",
    "from transformers import AutoTokenizer, AutoModelForCausalLM, GPT2Model, GPT2Config, pipeline"
   ]
  },
  {
   "cell_type": "code",
   "execution_count": 6,
   "id": "77d432fb",
   "metadata": {},
   "outputs": [],
   "source": [
    "# for prompt gen\n",
    "def get_genre():\n",
    "    genres = [\n",
    "            \"Action\",\n",
    "            \"Adventure\",\n",
    "            \"Animation\",\n",
    "            \"Biography\",\n",
    "            \"Comedy\",\n",
    "            \"Crime\",\n",
    "            \"Documentary\",\n",
    "            \"Drama\",\n",
    "            \"Family\",\n",
    "            \"Fantasy\",\n",
    "            \"History\",\n",
    "            \"Horror\",\n",
    "            \"Musical\",\n",
    "            \"Mystery\",\n",
    "            \"Romance\",\n",
    "            \"Sci-Fi\",\n",
    "            \"Sports\",\n",
    "            \"Thriller\",\n",
    "            \"War\",\n",
    "            \"Western\"\n",
    "    ]\n",
    "    return '-'.join(random.choices(genres, k=2))"
   ]
  },
  {
   "cell_type": "code",
   "execution_count": 7,
   "id": "3f73333b",
   "metadata": {},
   "outputs": [],
   "source": [
    "#prompt gen\n",
    "def generate_prompt(source):\n",
    "    nlp = text_to_nlp(source)\n",
    "    genre = get_genre()\n",
    "    noun_phrase1 = random.choice(get_article_noun_phrases(nlp))\n",
    "    noun_phrase2 = random.choice(get_article_noun_phrases(nlp))\n",
    "    verb_phrase = random.choice(get_verb_phrases(nlp))\n",
    "    prompt = 'Logline for a/n {g} movie about {n1}: {n2}'.format(\n",
    "    g=genre, n1=noun_phrase1, n2=noun_phrase2)\n",
    "    return str(prompt)"
   ]
  },
  {
   "cell_type": "code",
   "execution_count": 8,
   "id": "f50613d8",
   "metadata": {
    "scrolled": true
   },
   "outputs": [],
   "source": [
    "prompt = generate_prompt('loglines.txt')"
   ]
  },
  {
   "cell_type": "code",
   "execution_count": 9,
   "id": "b084730d",
   "metadata": {
    "scrolled": true
   },
   "outputs": [],
   "source": [
    "# logline gen\n",
    "generator = pipeline('text-generation', model='KrishParikh/gpt2_imdb_movie_plots')"
   ]
  },
  {
   "cell_type": "code",
   "execution_count": 10,
   "id": "7baeba45",
   "metadata": {},
   "outputs": [],
   "source": [
    "def generate_logline():\n",
    "    prompt = generate_prompt('loglines.txt')\n",
    "    colon_idx = prompt.index(':')\n",
    "    generated = generator(prompt, max_length = 100, do_sample = True, temperature = 1.25)\n",
    "    logline = generated[0]['generated_text'][colon_idx+2:]\n",
    "    return logline.capitalize()"
   ]
  },
  {
   "cell_type": "code",
   "execution_count": 11,
   "id": "aed36dac-1a7c-46a0-a614-f5063c3c1322",
   "metadata": {
    "tags": []
   },
   "outputs": [],
   "source": [
    "def generate_title(logline):\n",
    "    prompt = 'This is a movie\\'s plot:\\n\"{l}\"\\nThis is the movie\\'s short and snappy title that uses 1 - 4 words from the plot:\"'.format(\n",
    "    l=logline)\n",
    "    generated = generator(prompt, max_length = 100, do_sample = True, temperature = .6)\n",
    "    title = generated[0]['generated_text'].replace(prompt,'').replace('\\\"','').replace('.','')\n",
    "    return title"
   ]
  },
  {
   "cell_type": "code",
   "execution_count": 12,
   "id": "15a8b31c-4e78-4f7a-86cf-26e77843a212",
   "metadata": {
    "tags": []
   },
   "outputs": [
    {
     "name": "stderr",
     "output_type": "stream",
     "text": [
      "Setting `pad_token_id` to `eos_token_id`:50256 for open-end generation.\n",
      "Setting `pad_token_id` to `eos_token_id`:50256 for open-end generation.\n"
     ]
    }
   ],
   "source": [
    "logline = generate_logline()\n",
    "title = generate_title(logline)"
   ]
  },
  {
   "cell_type": "code",
   "execution_count": 13,
   "id": "4b241a7c-fbd7-43ce-a992-78a350c55821",
   "metadata": {},
   "outputs": [
    {
     "name": "stdout",
     "output_type": "stream",
     "text": [
      "A young man with an unusual gift becomes a superhero and must fight the forces that are keeping him in check :\n",
      " A new fbi profiler finds himself at odds with a high-functioning family of black women.\n"
     ]
    }
   ],
   "source": [
    "print(title,\":\\n\",logline)"
   ]
  },
  {
   "cell_type": "code",
   "execution_count": null,
   "id": "807cbc43-2b97-4088-a42a-d2001703b783",
   "metadata": {},
   "outputs": [],
   "source": []
  }
 ],
 "metadata": {
  "kernelspec": {
   "display_name": "Python 3 (ipykernel)",
   "language": "python",
   "name": "python3"
  },
  "language_info": {
   "codemirror_mode": {
    "name": "ipython",
    "version": 3
   },
   "file_extension": ".py",
   "mimetype": "text/x-python",
   "name": "python",
   "nbconvert_exporter": "python",
   "pygments_lexer": "ipython3",
   "version": "3.9.7"
  }
 },
 "nbformat": 4,
 "nbformat_minor": 5
}
